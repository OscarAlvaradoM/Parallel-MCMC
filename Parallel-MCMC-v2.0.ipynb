{
 "cells": [
  {
   "cell_type": "markdown",
   "metadata": {},
   "source": [
    "# Kernel chido "
   ]
  },
  {
   "cell_type": "code",
   "execution_count": 1,
   "metadata": {},
   "outputs": [],
   "source": [
    "using CUDA, LinearAlgebra, Statistics"
   ]
  },
  {
   "cell_type": "code",
   "execution_count": 2,
   "metadata": {},
   "outputs": [],
   "source": [
    "A = [3 -2 0; 1 3 -1; 2 1 4]\n",
    "b = [-3, -3, 6]\n",
    "\n",
    "M = Diagonal(A) # Tal vez esta es una mejor forma(?)\n",
    "\n",
    "N = M - A\n",
    "\n",
    "T = inv(M) * N\n",
    "\n",
    "f = inv(M) * b\n",
    "\n",
    "nT, mT = size(T)\n",
    "\n",
    "S = zeros(Int64, nT)\n",
    "\n",
    "[S[i] += 1 for i in 1:nT, j in 1:mT if T[i,j] != 0]\n",
    "\n",
    "P = zeros(nT, mT)\n",
    "[P[i,j] = 1/S[i] for i in 1:nT, j in 1:mT if T[i,j] != 0];\n",
    "#0.0  1.0  0.0\n",
    "#0.5  0.0  0.5\n",
    "#0.5  0.5  0.0\n",
    "\n",
    "[P[i,j] = sum(P[i,1:j]) for i = 1:nT, j = 1:mT if P[i,j] != 0];\n",
    "#0.0 1.0 0.0\n",
    "#0.5 0.0 1.0\n",
    "#0.5 1.0 0.0"
   ]
  },
  {
   "cell_type": "code",
   "execution_count": 3,
   "metadata": {},
   "outputs": [
    {
     "data": {
      "text/plain": [
       "3×3 Array{Float32,2}:\n",
       "  0.0        0.666667  0.0\n",
       " -0.333333   0.0       0.333333\n",
       " -0.5       -0.25      0.0"
      ]
     },
     "execution_count": 3,
     "metadata": {},
     "output_type": "execute_result"
    }
   ],
   "source": [
    "T = Float32.(T)"
   ]
  },
  {
   "cell_type": "code",
   "execution_count": 4,
   "metadata": {},
   "outputs": [
    {
     "data": {
      "text/plain": [
       "3×3 Array{Float32,2}:\n",
       " 0.0  1.0  0.0\n",
       " 0.5  0.0  1.0\n",
       " 0.5  1.0  0.0"
      ]
     },
     "execution_count": 4,
     "metadata": {},
     "output_type": "execute_result"
    }
   ],
   "source": [
    "P = Float32.(P)"
   ]
  },
  {
   "cell_type": "code",
   "execution_count": 5,
   "metadata": {},
   "outputs": [],
   "source": [
    "e = 3\n",
    "\n",
    "u = rand(e)\n",
    "Point = [1]\n",
    "Nextpoint = []\n",
    "#nextpoint = [u[i] for i = 1:40, while u]\n",
    "for tamaño = 1:e\n",
    "    np = 1\n",
    "    while u[tamaño] >= P[Point[tamaño], np]\n",
    "        np += 1\n",
    "    end\n",
    "    push!(Nextpoint, np)\n",
    "    push!(Point, np)\n",
    "end"
   ]
  },
  {
   "cell_type": "code",
   "execution_count": 6,
   "metadata": {},
   "outputs": [],
   "source": [
    "var = 1 # Aquí cambiamos la posición del vector solución que queremos aproximar, ya sea X[1], X[2] o X[3]\n",
    "d_W = CUDA.ones(Float32, e) # Aquí suponemos W_0 = 1.\n",
    "d_point = CuArray(Point)\n",
    "d_nextpoint = CuArray{Int32}(Nextpoint)\n",
    "d_W_new = CuArray{Float32}(undef, e)\n",
    "d_P = CuArray{Float32}(round.(P, digits = 6))\n",
    "d_T = CuArray{Float32}(round.(T, digits = 6))\n",
    "d_X = CUDA.fill(Float32(f[var]), e)\n",
    "d_f = CuArray(Float32.(f));"
   ]
  },
  {
   "cell_type": "code",
   "execution_count": 11,
   "metadata": {},
   "outputs": [
    {
     "data": {
      "text/plain": [
       "3×3 CuArray{Float32,2}:\n",
       "  0.0        0.666667  0.0\n",
       " -0.333333   0.0       0.333333\n",
       " -0.5       -0.25      0.0"
      ]
     },
     "execution_count": 11,
     "metadata": {},
     "output_type": "execute_result"
    }
   ],
   "source": [
    "d_T"
   ]
  },
  {
   "cell_type": "code",
   "execution_count": 12,
   "metadata": {},
   "outputs": [
    {
     "data": {
      "text/plain": [
       "3×3 CuArray{Float32,2}:\n",
       " 0.0        0.197531    0.0\n",
       " 0.0123456  0.0         0.0123456\n",
       " 0.0625     0.00390625  0.0"
      ]
     },
     "execution_count": 12,
     "metadata": {},
     "output_type": "execute_result"
    }
   ],
   "source": [
    "d_T.^4"
   ]
  },
  {
   "cell_type": "code",
   "execution_count": 16,
   "metadata": {},
   "outputs": [
    {
     "data": {
      "text/plain": [
       "kernel (generic function with 1 method)"
      ]
     },
     "execution_count": 16,
     "metadata": {},
     "output_type": "execute_result"
    }
   ],
   "source": [
    "function kernel(W, W_new, X, T, P, nextpoint, point, f)\n",
    "    i = (blockIdx().x-1) * blockDim().x + threadIdx().x\n",
    "    #W_new[i] = W[i] * (T[point[i], nextpoint[i]]/P[point[i], nextpoint[i]])\n",
    "    @cushow T[1,1]^4\n",
    "    W_new[i] = 0.0f0^14#W[i]*(T[point[i], nextpoint[i]])^4\n",
    "    #X[i] += W_new[i] * f[nextpoint[i]]\n",
    "    return\n",
    "end"
   ]
  },
  {
   "cell_type": "code",
   "execution_count": 17,
   "metadata": {},
   "outputs": [
    {
     "ename": "LLVM.LLVMException",
     "evalue": "LLVM error: Cannot select: 0x6933878: f32 = fpow 0x6933c20, ConstantFP:f32<4.000000e+00>, math.jl:884 @[ intfuncs.jl:265 @[ /home/oscar/.julia/packages/CUDA/7vLVC/src/device/intrinsics/output.jl:230 @[ In[16]:4 ] ] ]\n  0x6933c20: f32,ch = load<(load 4 from %ir.31, !tbaa !128, addrspace 1)> 0x52cc2a8, 0x69330c0, undef:i64, /home/oscar/.julia/packages/LLVM/T8ZBA/src/interop/base.jl:53 @[ /home/oscar/.julia/packages/CUDA/7vLVC/src/device/pointer.jl:115 @[ /home/oscar/.julia/packages/CUDA/7vLVC/src/device/pointer.jl:115 @[ /home/oscar/.julia/packages/CUDA/7vLVC/src/device/pointer.jl:245 @[ /home/oscar/.julia/packages/CUDA/7vLVC/src/device/array.jl:80 @[ /home/oscar/.julia/packages/CUDA/7vLVC/src/device/array.jl:99 @[ abstractarray.jl:1003 @[ abstractarray.jl:980 @[ /home/oscar/.julia/packages/CUDA/7vLVC/src/device/intrinsics/output.jl:230 @[ In[16]:4 ] ] ] ] ] ] ] ] ]\n    0x69330c0: i64,ch = CopyFromReg 0x52cc2a8, Register:i64 %0, /home/oscar/.julia/packages/LLVM/T8ZBA/src/interop/base.jl:53 @[ /home/oscar/.julia/packages/CUDA/7vLVC/src/device/pointer.jl:115 @[ /home/oscar/.julia/packages/CUDA/7vLVC/src/device/pointer.jl:115 @[ /home/oscar/.julia/packages/CUDA/7vLVC/src/device/pointer.jl:245 @[ /home/oscar/.julia/packages/CUDA/7vLVC/src/device/array.jl:80 @[ /home/oscar/.julia/packages/CUDA/7vLVC/src/device/array.jl:99 @[ abstractarray.jl:1003 @[ abstractarray.jl:980 @[ /home/oscar/.julia/packages/CUDA/7vLVC/src/device/intrinsics/output.jl:230 @[ In[16]:4 ] ] ] ] ] ] ] ] ]\n      0x6932d80: i64 = Register %0\n    0x6932ff0: i64 = undef\n  0x6933ae8: f32 = ConstantFP<4.000000e+00>\nIn function: _Z18julia_kernel_2006913CuDeviceArrayI7Float32Li1E6GlobalES_IS0_Li1ES1_ES_IS0_Li1ES1_ES_IS0_Li2ES1_ES_IS0_Li2ES1_ES_I5Int32Li1ES1_ES_I5Int64Li1ES1_ES_IS0_Li1ES1_E",
     "output_type": "error",
     "traceback": [
      "LLVM error: Cannot select: 0x6933878: f32 = fpow 0x6933c20, ConstantFP:f32<4.000000e+00>, math.jl:884 @[ intfuncs.jl:265 @[ /home/oscar/.julia/packages/CUDA/7vLVC/src/device/intrinsics/output.jl:230 @[ In[16]:4 ] ] ]\n  0x6933c20: f32,ch = load<(load 4 from %ir.31, !tbaa !128, addrspace 1)> 0x52cc2a8, 0x69330c0, undef:i64, /home/oscar/.julia/packages/LLVM/T8ZBA/src/interop/base.jl:53 @[ /home/oscar/.julia/packages/CUDA/7vLVC/src/device/pointer.jl:115 @[ /home/oscar/.julia/packages/CUDA/7vLVC/src/device/pointer.jl:115 @[ /home/oscar/.julia/packages/CUDA/7vLVC/src/device/pointer.jl:245 @[ /home/oscar/.julia/packages/CUDA/7vLVC/src/device/array.jl:80 @[ /home/oscar/.julia/packages/CUDA/7vLVC/src/device/array.jl:99 @[ abstractarray.jl:1003 @[ abstractarray.jl:980 @[ /home/oscar/.julia/packages/CUDA/7vLVC/src/device/intrinsics/output.jl:230 @[ In[16]:4 ] ] ] ] ] ] ] ] ]\n    0x69330c0: i64,ch = CopyFromReg 0x52cc2a8, Register:i64 %0, /home/oscar/.julia/packages/LLVM/T8ZBA/src/interop/base.jl:53 @[ /home/oscar/.julia/packages/CUDA/7vLVC/src/device/pointer.jl:115 @[ /home/oscar/.julia/packages/CUDA/7vLVC/src/device/pointer.jl:115 @[ /home/oscar/.julia/packages/CUDA/7vLVC/src/device/pointer.jl:245 @[ /home/oscar/.julia/packages/CUDA/7vLVC/src/device/array.jl:80 @[ /home/oscar/.julia/packages/CUDA/7vLVC/src/device/array.jl:99 @[ abstractarray.jl:1003 @[ abstractarray.jl:980 @[ /home/oscar/.julia/packages/CUDA/7vLVC/src/device/intrinsics/output.jl:230 @[ In[16]:4 ] ] ] ] ] ] ] ] ]\n      0x6932d80: i64 = Register %0\n    0x6932ff0: i64 = undef\n  0x6933ae8: f32 = ConstantFP<4.000000e+00>\nIn function: _Z18julia_kernel_2006913CuDeviceArrayI7Float32Li1E6GlobalES_IS0_Li1ES1_ES_IS0_Li1ES1_ES_IS0_Li2ES1_ES_IS0_Li2ES1_ES_I5Int32Li1ES1_ES_I5Int64Li1ES1_ES_IS0_Li1ES1_E",
      "",
      "Stacktrace:",
      " [1] handle_error(::Cstring) at /home/oscar/.julia/packages/LLVM/T8ZBA/src/core/context.jl:105",
      " [2] macro expansion at /home/oscar/.julia/packages/LLVM/T8ZBA/src/util.jl:109 [inlined]",
      " [3] LLVMTargetMachineEmitToMemoryBuffer(::LLVM.TargetMachine, ::LLVM.Module, ::LLVM.API.LLVMCodeGenFileType, ::Base.RefValue{Cstring}, ::Base.RefValue{Ptr{LLVM.API.LLVMOpaqueMemoryBuffer}}) at /home/oscar/.julia/packages/LLVM/T8ZBA/lib/libLLVM_h.jl:3512",
      " [4] emit(::LLVM.TargetMachine, ::LLVM.Module, ::LLVM.API.LLVMCodeGenFileType) at /home/oscar/.julia/packages/LLVM/T8ZBA/src/targetmachine.jl:43",
      " [5] mcgen at /home/oscar/.julia/packages/GPUCompiler/pCBTA/src/mcgen.jl:73 [inlined]",
      " [6] macro expansion at /home/oscar/.julia/packages/TimerOutputs/dVnaw/src/TimerOutput.jl:206 [inlined]",
      " [7] macro expansion at /home/oscar/.julia/packages/GPUCompiler/pCBTA/src/driver.jl:254 [inlined]",
      " [8] macro expansion at /home/oscar/.julia/packages/TimerOutputs/dVnaw/src/TimerOutput.jl:206 [inlined]",
      " [9] codegen(::Symbol, ::GPUCompiler.CompilerJob{GPUCompiler.PTXCompilerTarget,CUDA.CUDACompilerParams}; libraries::Bool, deferred_codegen::Bool, optimize::Bool, strip::Bool, validate::Bool, only_entry::Bool) at /home/oscar/.julia/packages/GPUCompiler/pCBTA/src/driver.jl:250",
      " [10] compile(::Symbol, ::GPUCompiler.CompilerJob{GPUCompiler.PTXCompilerTarget,CUDA.CUDACompilerParams}; libraries::Bool, deferred_codegen::Bool, optimize::Bool, strip::Bool, validate::Bool, only_entry::Bool) at /home/oscar/.julia/packages/GPUCompiler/pCBTA/src/driver.jl:39",
      " [11] compile at /home/oscar/.julia/packages/GPUCompiler/pCBTA/src/driver.jl:35 [inlined]",
      " [12] _cufunction(::GPUCompiler.FunctionSpec{typeof(kernel),Tuple{CuDeviceArray{Float32,1,CUDA.AS.Global},CuDeviceArray{Float32,1,CUDA.AS.Global},CuDeviceArray{Float32,1,CUDA.AS.Global},CuDeviceArray{Float32,2,CUDA.AS.Global},CuDeviceArray{Float32,2,CUDA.AS.Global},CuDeviceArray{Int32,1,CUDA.AS.Global},CuDeviceArray{Int64,1,CUDA.AS.Global},CuDeviceArray{Float32,1,CUDA.AS.Global}}}; kwargs::Base.Iterators.Pairs{Union{},Union{},Tuple{},NamedTuple{(),Tuple{}}}) at /home/oscar/.julia/packages/CUDA/7vLVC/src/compiler/execution.jl:310",
      " [13] _cufunction at /home/oscar/.julia/packages/CUDA/7vLVC/src/compiler/execution.jl:304 [inlined]",
      " [14] check_cache(::typeof(CUDA._cufunction), ::GPUCompiler.FunctionSpec{typeof(kernel),Tuple{CuDeviceArray{Float32,1,CUDA.AS.Global},CuDeviceArray{Float32,1,CUDA.AS.Global},CuDeviceArray{Float32,1,CUDA.AS.Global},CuDeviceArray{Float32,2,CUDA.AS.Global},CuDeviceArray{Float32,2,CUDA.AS.Global},CuDeviceArray{Int32,1,CUDA.AS.Global},CuDeviceArray{Int64,1,CUDA.AS.Global},CuDeviceArray{Float32,1,CUDA.AS.Global}}}, ::UInt64; kwargs::Base.Iterators.Pairs{Union{},Union{},Tuple{},NamedTuple{(),Tuple{}}}) at /home/oscar/.julia/packages/GPUCompiler/pCBTA/src/cache.jl:24",
      " [15] kernel at ./In[16]:2 [inlined]",
      " [16] cached_compilation(::typeof(CUDA._cufunction), ::GPUCompiler.FunctionSpec{typeof(kernel),Tuple{CuDeviceArray{Float32,1,CUDA.AS.Global},CuDeviceArray{Float32,1,CUDA.AS.Global},CuDeviceArray{Float32,1,CUDA.AS.Global},CuDeviceArray{Float32,2,CUDA.AS.Global},CuDeviceArray{Float32,2,CUDA.AS.Global},CuDeviceArray{Int32,1,CUDA.AS.Global},CuDeviceArray{Int64,1,CUDA.AS.Global},CuDeviceArray{Float32,1,CUDA.AS.Global}}}, ::UInt64; kwargs::Base.Iterators.Pairs{Union{},Union{},Tuple{},NamedTuple{(),Tuple{}}}) at /home/oscar/.julia/packages/GPUCompiler/pCBTA/src/cache.jl:0",
      " [17] cached_compilation at /home/oscar/.julia/packages/GPUCompiler/pCBTA/src/cache.jl:44 [inlined]",
      " [18] cufunction(::typeof(kernel), ::Type{Tuple{CuDeviceArray{Float32,1,CUDA.AS.Global},CuDeviceArray{Float32,1,CUDA.AS.Global},CuDeviceArray{Float32,1,CUDA.AS.Global},CuDeviceArray{Float32,2,CUDA.AS.Global},CuDeviceArray{Float32,2,CUDA.AS.Global},CuDeviceArray{Int32,1,CUDA.AS.Global},CuDeviceArray{Int64,1,CUDA.AS.Global},CuDeviceArray{Float32,1,CUDA.AS.Global}}}; name::Nothing, kwargs::Base.Iterators.Pairs{Union{},Union{},Tuple{},NamedTuple{(),Tuple{}}}) at /home/oscar/.julia/packages/CUDA/7vLVC/src/compiler/execution.jl:298",
      " [19] cufunction(::typeof(kernel), ::Type{Tuple{CuDeviceArray{Float32,1,CUDA.AS.Global},CuDeviceArray{Float32,1,CUDA.AS.Global},CuDeviceArray{Float32,1,CUDA.AS.Global},CuDeviceArray{Float32,2,CUDA.AS.Global},CuDeviceArray{Float32,2,CUDA.AS.Global},CuDeviceArray{Int32,1,CUDA.AS.Global},CuDeviceArray{Int64,1,CUDA.AS.Global},CuDeviceArray{Float32,1,CUDA.AS.Global}}}) at /home/oscar/.julia/packages/CUDA/7vLVC/src/compiler/execution.jl:293",
      " [20] top-level scope at /home/oscar/.julia/packages/CUDA/7vLVC/src/compiler/execution.jl:109",
      " [21] top-level scope at In[17]:1"
     ]
    }
   ],
   "source": [
    "@cuda threads = e kernel(d_W, d_W_new, d_X, d_T, d_P, d_nextpoint, d_point, d_f)"
   ]
  },
  {
   "cell_type": "code",
   "execution_count": 21,
   "metadata": {},
   "outputs": [
    {
     "data": {
      "text/html": [
       "^(x::<b>T</b>, p::<b>T</b>)<i> where T<:Integer</i> in Base at <a href=\"https://github.com/JuliaLang/julia/tree/44fa15b1502a45eac76c9017af94332d4557b251/base/intfuncs.jl#L238\" target=\"_blank\">intfuncs.jl:238</a>"
      ],
      "text/plain": [
       "^(x::T, p::T) where T<:Integer in Base at intfuncs.jl:238"
      ]
     },
     "execution_count": 21,
     "metadata": {},
     "output_type": "execute_result"
    }
   ],
   "source": [
    "@which 2^3"
   ]
  },
  {
   "cell_type": "code",
   "execution_count": 136,
   "metadata": {},
   "outputs": [
    {
     "data": {
      "text/plain": [
       "-1.0f0"
      ]
     },
     "execution_count": 136,
     "metadata": {},
     "output_type": "execute_result"
    }
   ],
   "source": [
    "mean(Array(d_X))"
   ]
  },
  {
   "cell_type": "code",
   "execution_count": 228,
   "metadata": {},
   "outputs": [
    {
     "name": "stdout",
     "output_type": "stream",
     "text": [
      "0.6666666666666666\n",
      "-0.6666666666666666\n",
      "0.6666666666666666\n"
     ]
    }
   ],
   "source": [
    "for i = 1:3\n",
    "    a = T[Point[i], Nextpoint[i]]/P[Point[i], Nextpoint[i]]\n",
    "    println(a%1)\n",
    "end"
   ]
  },
  {
   "cell_type": "code",
   "execution_count": 74,
   "metadata": {},
   "outputs": [],
   "source": [
    "point = 2\n",
    "W_0 = 1\n",
    "W = W_0\n",
    "X = zeros(Float32, mT)\n",
    "for tamaño = 1:20\n",
    "    u = rand()\n",
    "    nextpoint = 1\n",
    "    while u >= P[point, nextpoint]\n",
    "        nextpoint += 1\n",
    "    end\n",
    "    W_new = W *(T[point, nextpoint]/P[point, nextpoint])\n",
    "    X[1] += W_new * f[nextpoint] # ------------------------Aquí\n",
    "    W = W_new\n",
    "    point = nextpoint\n",
    "end"
   ]
  },
  {
   "cell_type": "code",
   "execution_count": 75,
   "metadata": {},
   "outputs": [
    {
     "data": {
      "text/plain": [
       "0.5127022f0"
      ]
     },
     "execution_count": 75,
     "metadata": {},
     "output_type": "execute_result"
    }
   ],
   "source": [
    "X[1]"
   ]
  },
  {
   "cell_type": "code",
   "execution_count": null,
   "metadata": {},
   "outputs": [],
   "source": []
  }
 ],
 "metadata": {
  "kernelspec": {
   "display_name": "Julia 1.4.2",
   "language": "julia",
   "name": "julia-1.4"
  },
  "language_info": {
   "file_extension": ".jl",
   "mimetype": "application/julia",
   "name": "julia",
   "version": "1.4.2"
  }
 },
 "nbformat": 4,
 "nbformat_minor": 2
}
