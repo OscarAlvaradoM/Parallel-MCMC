{
 "cells": [
  {
   "cell_type": "markdown",
   "metadata": {},
   "source": [
    "# Parallel Monte Carlo Markov Chain Method\n",
    "* Oscar A. Esquivel-Flores\n",
    "* Óscar A. Alvarado Morán"
   ]
  },
  {
   "cell_type": "code",
   "execution_count": 1,
   "metadata": {},
   "outputs": [],
   "source": [
    "using CUDA, LinearAlgebra, Statistics"
   ]
  },
  {
   "cell_type": "code",
   "execution_count": 2,
   "metadata": {},
   "outputs": [],
   "source": [
    "A = [3 -2 0; 1 3 -1; 2 1 4]\n",
    "b = [-3, -3, 6]\n",
    "\n",
    "M = Diagonal(A) # Tal vez esta es una mejor forma(?)\n",
    "\n",
    "N = M - A\n",
    "\n",
    "T = inv(M) * N\n",
    "\n",
    "f = inv(M) * b\n",
    "\n",
    "nT, mT = size(T)\n",
    "\n",
    "S = zeros(Int64, nT)\n",
    "\n",
    "[S[i] += 1 for i in 1:nT, j in 1:mT if T[i,j] != 0]\n",
    "\n",
    "P = zeros(nT, mT)\n",
    "[P[i,j] = 1/S[i] for i in 1:nT, j in 1:mT if T[i,j] != 0];\n",
    "#0.0  1.0  0.0\n",
    "#0.5  0.0  0.5\n",
    "#0.5  0.5  0.0\n",
    "\n",
    "Pi = [1/nT for i in 1:nT];"
   ]
  },
  {
   "cell_type": "code",
   "execution_count": 3,
   "metadata": {},
   "outputs": [
    {
     "data": {
      "text/plain": [
       "P_MCMC (generic function with 1 method)"
      ]
     },
     "execution_count": 3,
     "metadata": {},
     "output_type": "execute_result"
    }
   ],
   "source": [
    "function P_MCMC(W, point, nextpoint, u, W_new, P, T, X1, f, suma)\n",
    "    i = (blockIdx().x-1) * blockDim().x + threadIdx().x\n",
    "    while abs(W[i]) >= 0.05\n",
    "        #sync_threads()\n",
    "        nextpoint[i] = Int32(1)\n",
    "        suma[i] = Float32(0.)\n",
    "        for k in 1:size(P, 2)\n",
    "            suma[i] += P[point[i], k]\n",
    "            if u[i] < suma[i]\n",
    "                nextpoint[i] = k\n",
    "                break \n",
    "            end\n",
    "        end\n",
    "        #sync_threads()\n",
    "        if T[point[i], nextpoint[i]] != 0\n",
    "            W_new[i] = W[i] * (T[point[i], nextpoint[i]]/P[point[i], nextpoint[i]])\n",
    "            X1[i] += W_new[i] * f[nextpoint[i]]\n",
    "        end\n",
    "        W[i] = W_new[i]\n",
    "        point[i] = nextpoint[i]\n",
    "        #sync_threads()\n",
    "    end\n",
    "    return\n",
    "end"
   ]
  },
  {
   "cell_type": "code",
   "execution_count": 4,
   "metadata": {},
   "outputs": [],
   "source": [
    "var = 3 # Aquí cambiamos la posición del vector solución que queremos aproximar, ya sea X[1], X[2] o X[3]\n",
    "N = 1024 # Número de Cadenas de Markov que crearemos\n",
    "d_W = CUDA.ones(Float32, N) # Aquí suponemos W_0 = 1.\n",
    "d_point = CUDA.ones(Int32, N) .* var\n",
    "d_nextpoint = CUDA.ones(Int32, N)\n",
    "d_u = CUDA.rand(Float32, 4000)\n",
    "d_W_new = CuArray{Float32}(undef, N)\n",
    "d_P = CuArray(Float32.(P))\n",
    "d_T = CuArray(Float32.(T))\n",
    "d_X1 = CUDA.fill(Float32(f[var]), N)\n",
    "d_f = CuArray(Float32.(f))\n",
    "d_suma = CUDA.zeros(Float32, N) # Esta varaible es para hacer la suma que estaba dentro del segundo while, ya\n",
    "                                # que no se permite recursividad (es decir, no se puede hacer 1:4 para índices)\n",
    "#d_cont = CuArray{Int32}([0]); # Sólo un contador para ver cuántas cadenas de Markov se estaban utilizando para \n",
    "                              # llegar a que abs(W) fuera menor que ϵ.\n",
    "\n",
    "@cuda threads = 1024 P_MCMC(d_W, d_point, d_nextpoint, d_u, d_W_new, d_P, d_T, d_X1, d_f, d_suma)\n",
    "# Por el momento enviamos tantos hilos comos nos lo permite un bloque, pero hay que hacer una buena gestión de\n",
    "# éstos para que sea más rápido."
   ]
  },
  {
   "cell_type": "code",
   "execution_count": 5,
   "metadata": {},
   "outputs": [
    {
     "data": {
      "text/plain": [
       "2.0649552f0"
      ]
     },
     "execution_count": 5,
     "metadata": {},
     "output_type": "execute_result"
    }
   ],
   "source": [
    "mean(Array(d_X1))"
   ]
  },
  {
   "cell_type": "code",
   "execution_count": null,
   "metadata": {},
   "outputs": [],
   "source": []
  }
 ],
 "metadata": {
  "kernelspec": {
   "display_name": "Julia 1.4.2",
   "language": "julia",
   "name": "julia-1.4"
  },
  "language_info": {
   "file_extension": ".jl",
   "mimetype": "application/julia",
   "name": "julia",
   "version": "1.4.2"
  }
 },
 "nbformat": 4,
 "nbformat_minor": 2
}
