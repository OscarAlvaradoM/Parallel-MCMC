{
 "cells": [
  {
   "cell_type": "markdown",
   "metadata": {},
   "source": [
    "# Monte Carlo Markov Chain Method\n",
    "* Oscar A. Esquivel-Flores\n",
    "* Óscar A. Alvarado Morán"
   ]
  },
  {
   "cell_type": "markdown",
   "metadata": {},
   "source": [
    "Vamos a utilizar el paquete `LinearAlgebra` para calcular normas y obtener matrices especiales, entre otras cosas."
   ]
  },
  {
   "cell_type": "code",
   "execution_count": 13,
   "metadata": {
    "scrolled": true
   },
   "outputs": [],
   "source": [
    "using LinearAlgebra, BenchmarkTools"
   ]
  },
  {
   "cell_type": "markdown",
   "metadata": {},
   "source": [
    "Sea el sistema de ecuaciones lineales algebraico:\n",
    "\n",
    "\\begin{align}\n",
    "3x -2y & = & -3 \\\\ \n",
    "x + 3 - y & = & -3 \\\\ \n",
    "2x + y + 4z & = & 6 \n",
    "\\end{align}"
   ]
  },
  {
   "cell_type": "markdown",
   "metadata": {},
   "source": [
    "En la representación matricial del sistema $Ax = b$, la matriz $A$ corresponde a los coeficientes, el vector $x$ contiene las variables del sistema y el vector $b$ corresponde a los términos independientes.\n"
   ]
  },
  {
   "cell_type": "code",
   "execution_count": 17,
   "metadata": {},
   "outputs": [
    {
     "data": {
      "text/plain": [
       "3-element Array{Int64,1}:\n",
       " -3\n",
       " -3\n",
       "  6"
      ]
     },
     "execution_count": 17,
     "metadata": {},
     "output_type": "execute_result"
    }
   ],
   "source": [
    "A = [3 -2 0; 1 3 -1; 2 1 4]\n",
    "b = [-3, -3, 6]"
   ]
  },
  {
   "cell_type": "code",
   "execution_count": 18,
   "metadata": {},
   "outputs": [
    {
     "data": {
      "text/plain": [
       "3×3 Array{Int64,2}:\n",
       " 3  -2   0\n",
       " 1   3  -1\n",
       " 2   1   4"
      ]
     },
     "execution_count": 18,
     "metadata": {},
     "output_type": "execute_result"
    }
   ],
   "source": [
    "A"
   ]
  },
  {
   "cell_type": "code",
   "execution_count": 19,
   "metadata": {},
   "outputs": [
    {
     "data": {
      "text/plain": [
       "3-element Array{Int64,1}:\n",
       " -3\n",
       " -3\n",
       "  6"
      ]
     },
     "execution_count": 19,
     "metadata": {},
     "output_type": "execute_result"
    }
   ],
   "source": [
    "b"
   ]
  },
  {
   "cell_type": "markdown",
   "metadata": {},
   "source": [
    "Usamos el operador `\\` de Juia(base) para calcular la solución del sistema, dados $A$ y $b$."
   ]
  },
  {
   "cell_type": "code",
   "execution_count": 20,
   "metadata": {},
   "outputs": [
    {
     "data": {
      "text/plain": [
       "3-element Array{Float64,1}:\n",
       " -1.0\n",
       "  0.0\n",
       "  2.0"
      ]
     },
     "execution_count": 20,
     "metadata": {},
     "output_type": "execute_result"
    }
   ],
   "source": [
    "A\\b"
   ]
  },
  {
   "cell_type": "markdown",
   "metadata": {},
   "source": [
    "La solución del sistema es $x = [-1, 0 ,2]$"
   ]
  },
  {
   "cell_type": "markdown",
   "metadata": {},
   "source": [
    "El método de Monte Carlo-Cadenas de Markov inicia descomponiendo la matriz $A = M - N$ para obtener la expresión iterativa:\n",
    "\n",
    "\\begin{equation}\n",
    "x_{k+1} = Tx_{k} + f,\n",
    "\\end{equation}\n",
    "\n",
    "para $k = 0, 1, 2, ...,$\n",
    "\n",
    "donde $T=M^{-1}N$ y $f = M^{-1}b$"
   ]
  },
  {
   "cell_type": "markdown",
   "metadata": {},
   "source": [
    "### Contrucción de M y N"
   ]
  },
  {
   "cell_type": "markdown",
   "metadata": {},
   "source": [
    "En Julia la matriz identidad se construye mediante una sintaxis un poco freaky, la ilustro abajo, la vamos a utilizar más adelante..."
   ]
  },
  {
   "cell_type": "code",
   "execution_count": 21,
   "metadata": {},
   "outputs": [
    {
     "data": {
      "text/plain": [
       "3×3 Array{Float64,2}:\n",
       " 1.0  0.0  0.0\n",
       " 0.0  1.0  0.0\n",
       " 0.0  0.0  1.0"
      ]
     },
     "execution_count": 21,
     "metadata": {},
     "output_type": "execute_result"
    }
   ],
   "source": [
    "Matrix{Float64}(I, 3, 3)"
   ]
  },
  {
   "cell_type": "markdown",
   "metadata": {},
   "source": [
    "Una forma de construir $M$ es extraer la diagonal principal de $A$ y rellenar de ceros,"
   ]
  },
  {
   "cell_type": "code",
   "execution_count": 22,
   "metadata": {},
   "outputs": [
    {
     "data": {
      "text/plain": [
       "3×3 Diagonal{Int64,Array{Int64,1}}:\n",
       " 3  ⋅  ⋅\n",
       " ⋅  3  ⋅\n",
       " ⋅  ⋅  4"
      ]
     },
     "execution_count": 22,
     "metadata": {},
     "output_type": "execute_result"
    }
   ],
   "source": [
    "M = Diagonal(A) # Tal vez esta es una mejor forma(?)"
   ]
  },
  {
   "cell_type": "markdown",
   "metadata": {},
   "source": [
    "$N$ la obtenemos sustituyendo $M$ de $A = M-N$"
   ]
  },
  {
   "cell_type": "code",
   "execution_count": 23,
   "metadata": {},
   "outputs": [
    {
     "data": {
      "text/plain": [
       "3×3 Array{Int64,2}:\n",
       "  0   2  0\n",
       " -1   0  1\n",
       " -2  -1  0"
      ]
     },
     "execution_count": 23,
     "metadata": {},
     "output_type": "execute_result"
    }
   ],
   "source": [
    "N = M - A"
   ]
  },
  {
   "cell_type": "markdown",
   "metadata": {},
   "source": [
    "Obtenemos la matriz $T$ haciendo $M^{-1}N$"
   ]
  },
  {
   "cell_type": "code",
   "execution_count": 24,
   "metadata": {},
   "outputs": [
    {
     "data": {
      "text/plain": [
       "3×3 Array{Float64,2}:\n",
       "  0.0        0.666667  0.0\n",
       " -0.333333   0.0       0.333333\n",
       " -0.5       -0.25      0.0"
      ]
     },
     "execution_count": 24,
     "metadata": {},
     "output_type": "execute_result"
    }
   ],
   "source": [
    "T = inv(M) * N"
   ]
  },
  {
   "cell_type": "markdown",
   "metadata": {},
   "source": [
    "La norma de $T$ y el valor de sus eigenvalores nos permite conocer la convergencia del método. La norma-`p`está definida como:\n",
    "\n",
    "$$ \\|A\\|_p = \\left( \\sum_{i=1}^n | a_i | ^p \\right)^{1/p} $$\n",
    "\n",
    "donde `p` es cualquier número entero."
   ]
  },
  {
   "cell_type": "markdown",
   "metadata": {},
   "source": [
    "La función `norm()` de Julia calcula la norma 2 de un vector..."
   ]
  },
  {
   "cell_type": "code",
   "execution_count": 25,
   "metadata": {},
   "outputs": [
    {
     "data": {
      "text/plain": [
       "0.9895285072531598"
      ]
     },
     "execution_count": 25,
     "metadata": {},
     "output_type": "execute_result"
    }
   ],
   "source": [
    "norm(T)"
   ]
  },
  {
   "cell_type": "code",
   "execution_count": 26,
   "metadata": {},
   "outputs": [
    {
     "data": {
      "text/plain": [
       "3-element Array{Complex{Float64},1}:\n",
       " -0.2865958167935963 + 0.0im\n",
       " 0.14329790839679796 - 0.6059359926660953im\n",
       " 0.14329790839679796 + 0.6059359926660953im"
      ]
     },
     "execution_count": 26,
     "metadata": {},
     "output_type": "execute_result"
    }
   ],
   "source": [
    "eigvals(T)"
   ]
  },
  {
   "cell_type": "markdown",
   "metadata": {},
   "source": [
    "Si los eigenvalores de $T$ están dentro del círculo unitario o la norma 2 de $T$ es menor que uno, se garantiza la convergencia del método. "
   ]
  },
  {
   "cell_type": "markdown",
   "metadata": {},
   "source": [
    "Obtenemos el vector $f$ haciendo $M^{-1}b$"
   ]
  },
  {
   "cell_type": "code",
   "execution_count": 27,
   "metadata": {},
   "outputs": [
    {
     "data": {
      "text/plain": [
       "3-element Array{Float64,1}:\n",
       " -1.0\n",
       " -1.0\n",
       "  1.5"
      ]
     },
     "execution_count": 27,
     "metadata": {},
     "output_type": "execute_result"
    }
   ],
   "source": [
    "f = inv(M) * b"
   ]
  },
  {
   "cell_type": "code",
   "execution_count": 28,
   "metadata": {},
   "outputs": [
    {
     "data": {
      "text/plain": [
       "(3, 3)"
      ]
     },
     "execution_count": 28,
     "metadata": {},
     "output_type": "execute_result"
    }
   ],
   "source": [
    "nT, mT = size(T)"
   ]
  },
  {
   "cell_type": "markdown",
   "metadata": {},
   "source": [
    "El proceso de Markov nos va a permitir estimar cada elemento del vector solución $x$, el proceso consiste en crear una cadena de estados que pueden interpretarse como una secuencia de elecciones aleatorias de elementos de $T$ y $f$ con los cuales crear pesos (cocientes) de la forma:\n",
    "\n",
    "\\begin{equation}\n",
    "W_m = W_{m-1}\\cdot w_{r_{m-1}r_m}\n",
    "\\end{equation}\n",
    "donde $w_{r_{m-1}r_m}=\\dfrac{ t_{r_{m-1}r_m}} {p_{r_{m-1}r_m} }$ y $W_0 = \\dfrac{h_{r_0}}{p_{r_0}}$"
   ]
  },
  {
   "cell_type": "markdown",
   "metadata": {},
   "source": [
    "Para hacer la secuencia aleatoria se requiere construir una matriz de probabilidad $P$ para elegir cada elemento no cero de $T$. Iniciamos creando un vector $S$ en donde se guardan el número de elementos no cero de $T$ por cada renglón. "
   ]
  },
  {
   "cell_type": "markdown",
   "metadata": {},
   "source": [
    "Definimos la matriz $S$ donde se guardarán los valores no cero por renglón. Este vector se usa para calcular la matriz de probabilidad $P$. Usamos una _comprehension list_ de arreglos para recorrer $T$."
   ]
  },
  {
   "cell_type": "code",
   "execution_count": 29,
   "metadata": {},
   "outputs": [
    {
     "data": {
      "text/plain": [
       "3-element Array{Int64,1}:\n",
       " 0\n",
       " 0\n",
       " 0"
      ]
     },
     "execution_count": 29,
     "metadata": {},
     "output_type": "execute_result"
    }
   ],
   "source": [
    "S = zeros(Int64, nT)"
   ]
  },
  {
   "cell_type": "code",
   "execution_count": 30,
   "metadata": {},
   "outputs": [
    {
     "data": {
      "text/plain": [
       "5-element Array{Int64,1}:\n",
       " 1\n",
       " 1\n",
       " 1\n",
       " 2\n",
       " 2"
      ]
     },
     "execution_count": 30,
     "metadata": {},
     "output_type": "execute_result"
    }
   ],
   "source": [
    "[S[i] += 1 for i in 1:nT, j in 1:mT if T[i,j] != 0]"
   ]
  },
  {
   "cell_type": "code",
   "execution_count": 31,
   "metadata": {},
   "outputs": [
    {
     "data": {
      "text/plain": [
       "3-element Array{Int64,1}:\n",
       " 1\n",
       " 2\n",
       " 2"
      ]
     },
     "execution_count": 31,
     "metadata": {},
     "output_type": "execute_result"
    }
   ],
   "source": [
    "S"
   ]
  },
  {
   "cell_type": "markdown",
   "metadata": {},
   "source": [
    "Cada renglón de la matriz $P$ contiene valores de probabilidad (uniforme) para cada elemento de $T$ diferentes de cero."
   ]
  },
  {
   "cell_type": "code",
   "execution_count": 32,
   "metadata": {},
   "outputs": [],
   "source": [
    "P = zeros(nT, mT)\n",
    "[P[i,j] = 1/S[i] for i in 1:nT, j in 1:mT if T[i,j] != 0];"
   ]
  },
  {
   "cell_type": "code",
   "execution_count": 33,
   "metadata": {},
   "outputs": [
    {
     "data": {
      "text/plain": [
       "3×3 Array{Float64,2}:\n",
       " 0.0  1.0  0.0\n",
       " 0.5  0.0  0.5\n",
       " 0.5  0.5  0.0"
      ]
     },
     "execution_count": 33,
     "metadata": {},
     "output_type": "execute_result"
    }
   ],
   "source": [
    "P"
   ]
  },
  {
   "cell_type": "markdown",
   "metadata": {},
   "source": [
    "El vector $P_i$ contiene la probabilidad uniforme de elegir un elemento no cero de $f$"
   ]
  },
  {
   "cell_type": "code",
   "execution_count": 34,
   "metadata": {},
   "outputs": [
    {
     "data": {
      "text/plain": [
       "3-element Array{Float64,1}:\n",
       " 0.3333333333333333\n",
       " 0.3333333333333333\n",
       " 0.3333333333333333"
      ]
     },
     "execution_count": 34,
     "metadata": {},
     "output_type": "execute_result"
    }
   ],
   "source": [
    "Pi = [1/nT for i in 1:nT]"
   ]
  },
  {
   "cell_type": "markdown",
   "metadata": {},
   "source": [
    "Dos parámetros nos van a permitir obtener cierta precisión en la estimación. Definimos el error de exactitud $\\epsilon$ y el error estadístico $\\delta$. "
   ]
  },
  {
   "cell_type": "code",
   "execution_count": 8,
   "metadata": {},
   "outputs": [
    {
     "data": {
      "text/plain": [
       "0.5"
      ]
     },
     "execution_count": 8,
     "metadata": {},
     "output_type": "execute_result"
    }
   ],
   "source": [
    "ϵ = 0.5\n",
    "δ = 0.5"
   ]
  },
  {
   "cell_type": "markdown",
   "metadata": {},
   "source": [
    "Para estimar cada elemento del vector solución se requiere construir $N$ cademas de Markov y obtener el promedio. El número de cadenas de Markov $N$ se calcula haciendo:"
   ]
  },
  {
   "cell_type": "code",
   "execution_count": 9,
   "metadata": {},
   "outputs": [
    {
     "data": {
      "text/plain": [
       "70534.0"
      ]
     },
     "execution_count": 9,
     "metadata": {},
     "output_type": "execute_result"
    }
   ],
   "source": [
    "N = floor((0.6745/δ)^2*((norm(f)^2)/(1-norm(T))^2)) + 1"
   ]
  },
  {
   "cell_type": "markdown",
   "metadata": {},
   "source": [
    "Para mayor exactitud en la estimación los valores de los errores $\\epsilon$ y $\\delta$ deberán reducirse, lo que se traduce en cadenas más grandes, resultando en el incremento del valor de $N$ y por tanto los cálculos."
   ]
  },
  {
   "cell_type": "markdown",
   "metadata": {},
   "source": [
    "El algoritmo Monte Carlo-Cadena de Markov se implementa a continuación:"
   ]
  },
  {
   "cell_type": "code",
   "execution_count": 23,
   "metadata": {},
   "outputs": [
    {
     "data": {
      "text/plain": [
       "MCMC (generic function with 1 method)"
      ]
     },
     "execution_count": 23,
     "metadata": {},
     "output_type": "execute_result"
    }
   ],
   "source": [
    "function MCMC(N,T,f,P,ϵ)\n",
    "    nT, mT = size(T)\n",
    "    X = zeros(Float32, mT)\n",
    "    cont1 = 0\n",
    "    cont2 = 0\n",
    "    for column_T in 1:nT # Separemos todo primero por columnas. Por qué por columnas(mT)?\n",
    "        W_0 = 1\n",
    "        R = 0 \n",
    "        for chain in 1:N # Número de Cadenas de Markov\n",
    "            W = W_0\n",
    "            point = column_T # ---------------------------------------------------Aquí\n",
    "            X[column_T] = W_0 * f[column_T] # ---------------------------------------Aquí\n",
    "            while abs(W) >= ϵ\n",
    "                nextpoint  = 1\n",
    "                u = rand()\n",
    "                while u >= sum(P[point, 1:nextpoint])\n",
    "                    nextpoint += 1\n",
    "                    cont1 += 1\n",
    "                end\n",
    "                if T[point, nextpoint] != 0 # Qué pasa cuando no se aplica esto?\n",
    "                    W_new = W *(T[point, nextpoint]/P[point, nextpoint])\n",
    "                    X[column_T] += W_new * f[nextpoint] # ------------------------Aquí\n",
    "                    cont2 += 1\n",
    "                end\n",
    "                W = W_new\n",
    "                point = nextpoint\n",
    "            end\n",
    "            R += X[column_T] # ---------------------------------------------------Aquí\n",
    "        end\n",
    "        println(R/N)\n",
    "    end\n",
    "    @show cont1, cont2\n",
    "end"
   ]
  },
  {
   "cell_type": "code",
   "execution_count": 53,
   "metadata": {},
   "outputs": [
    {
     "ename": "InterruptException",
     "evalue": "InterruptException:",
     "output_type": "error",
     "traceback": [
      "InterruptException:",
      "",
      "Stacktrace:",
      " [1] MCMC(::Float64, ::Array{Float64,2}, ::Array{Float64,1}, ::Array{Float64,2}) at ./In[52]:13",
      " [2] top-level scope at In[53]:1"
     ]
    }
   ],
   "source": [
    "MCMC(7.053354e6,T,f,P,ϵ)"
   ]
  },
  {
   "cell_type": "code",
   "execution_count": 24,
   "metadata": {
    "scrolled": true
   },
   "outputs": [
    {
     "name": "stdout",
     "output_type": "stream",
     "text": [
      "-1.1109822\n",
      "0.41707262\n",
      "2.0966182\n",
      "(cont1, cont2) = (423514, 476082)\n"
     ]
    },
    {
     "data": {
      "text/plain": [
       "(423514, 476082)"
      ]
     },
     "execution_count": 24,
     "metadata": {},
     "output_type": "execute_result"
    }
   ],
   "source": [
    "MCMC(70534,T,f,P,ϵ)"
   ]
  },
  {
   "cell_type": "markdown",
   "metadata": {},
   "source": [
    "Tabla comparativa:\n",
    "\n",
    "| $\\epsilon$  | $\\delta$ | no. cadenas |    Aproximación $x$    | tiempo  |\n",
    "| -------- | ----------- |-------------| -----------------------| ------- |\n",
    "| 0.5      | 0.5         |   70534     | [-1.1114, 0.416, 2.09] |    4.024 s    |\n",
    "| 0.05     | 0.05        | 7.053354e6  | [-0.975 , 0.003, 1.978] |    412.273 s    |\n"
   ]
  },
  {
   "cell_type": "markdown",
   "metadata": {},
   "source": [
    "Algunas preguntas surgen:\n",
    "1. El algoritmo funciona para matrices que no tiene $T$ diagonal dominante, es decir que no tengan norma 2 menor que uno o los eigenvalores no estén dentro del círculo unitario?\n",
    "2. Si las dimensiones del sistema aumentan, ¿sigue siendo efectivo el método?"
   ]
  }
 ],
 "metadata": {
  "kernelspec": {
   "display_name": "Julia 1.4.2",
   "language": "julia",
   "name": "julia-1.4"
  },
  "language_info": {
   "file_extension": ".jl",
   "mimetype": "application/julia",
   "name": "julia",
   "version": "1.4.2"
  }
 },
 "nbformat": 4,
 "nbformat_minor": 2
}
