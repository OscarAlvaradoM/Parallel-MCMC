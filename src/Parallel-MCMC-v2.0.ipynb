{
 "cells": [
  {
   "cell_type": "markdown",
   "metadata": {},
   "source": [
    "# Kernel chido "
   ]
  },
  {
   "cell_type": "code",
   "execution_count": 1,
   "metadata": {},
   "outputs": [],
   "source": [
    "using CUDA, LinearAlgebra, Statistics"
   ]
  },
  {
   "cell_type": "code",
   "execution_count": 2,
   "metadata": {},
   "outputs": [],
   "source": [
    "A = [3 -2 0; 1 3 -1; 2 1 4]\n",
    "b = [-3, -3, 6]\n",
    "#A\\b = [-1 0 2]\n",
    "\n",
    "M = Diagonal(A) # Tal vez esta es una mejor forma(?)\n",
    "\n",
    "N = M - A\n",
    "\n",
    "T = inv(M) * N\n",
    "\n",
    "f = inv(M) * b\n",
    "\n",
    "nT, mT = size(T)\n",
    "\n",
    "S = zeros(Int64, nT)\n",
    "\n",
    "[S[i] += 1 for i in 1:nT, j in 1:mT if T[i,j] != 0]\n",
    "\n",
    "P = zeros(nT, mT)\n",
    "[P[i,j] = 1/S[i] for i in 1:nT, j in 1:mT if T[i,j] != 0];\n",
    "#0.0  1.0  0.0\n",
    "#0.5  0.0  0.5\n",
    "#0.5  0.5  0.0\n",
    "\n",
    "[P[i,j] = sum(P[i,1:j]) for i = 1:nT, j = 1:mT if P[i,j] != 0];\n",
    "#0.0 1.0 0.0\n",
    "#0.5 0.0 1.0\n",
    "#0.5 1.0 0.0"
   ]
  },
  {
   "cell_type": "code",
   "execution_count": 3,
   "metadata": {},
   "outputs": [
    {
     "data": {
      "text/plain": [
       "3×3 Array{Float64,2}:\n",
       "  0.0        0.666667  0.0\n",
       " -0.333333   0.0       0.333333\n",
       " -0.5       -0.25      0.0"
      ]
     },
     "execution_count": 3,
     "metadata": {},
     "output_type": "execute_result"
    }
   ],
   "source": [
    "T"
   ]
  },
  {
   "cell_type": "code",
   "execution_count": 4,
   "metadata": {},
   "outputs": [
    {
     "data": {
      "text/plain": [
       "3×3 Array{Float64,2}:\n",
       " 0.0  1.0  0.0\n",
       " 0.5  0.0  1.0\n",
       " 0.5  1.0  0.0"
      ]
     },
     "execution_count": 4,
     "metadata": {},
     "output_type": "execute_result"
    }
   ],
   "source": [
    "P"
   ]
  },
  {
   "cell_type": "code",
   "execution_count": 117,
   "metadata": {},
   "outputs": [
    {
     "name": "stdout",
     "output_type": "stream",
     "text": [
      "W_new[1] = 0.333333, T[2, 3] = 0.333333, P[2, 3] = 1.000000\n",
      "W_new[2] = 1.000000, T[3, 1] = -0.500000, P[3, 1] = 0.500000\n",
      "W_new[3] = 0.296296, T[1, 2] = 0.666667, P[1, 2] = 1.000000\n",
      "W_new[4] = 0.012346, T[2, 3] = 0.333333, P[2, 3] = 1.000000\n",
      "W_new[5] = -0.000977, T[3, 2] = -0.250000, P[3, 2] = 1.000000\n",
      "W_new[6] = 0.087792, T[2, 1] = -0.333333, P[2, 1] = 0.500000\n",
      "W_new[7] = 0.058528, T[1, 2] = 0.666667, P[1, 2] = 1.000000\n",
      "W_new[8] = 0.039018, T[2, 1] = -0.333333, P[2, 1] = 0.500000\n",
      "W_new[9] = 0.026012, T[1, 2] = 0.666667, P[1, 2] = 1.000000\n",
      "W_new[10] = 0.017342, T[2, 1] = -0.333333, P[2, 1] = 0.500000\n",
      "W_new[1] = 0.333333\n",
      "W_new[2] = 1.000000\n",
      "W_new[3] = 0.296296\n"
     ]
    },
    {
     "data": {
      "text/plain": [
       "-1.2654321f0"
      ]
     },
     "execution_count": 117,
     "metadata": {},
     "output_type": "execute_result"
    }
   ],
   "source": [
    "e = 10\n",
    " # Aquí cambiamos la posición del vector solución que queremos aproximar, ya sea X[1], X[2] o X[3]\n",
    "var = 2\n",
    "\n",
    "u = rand(e)\n",
    "Point = [var]\n",
    "Nextpoint = []\n",
    "for tamaño = 1:e\n",
    "    np = 1\n",
    "    while u[tamaño] >= P[Point[tamaño], np]\n",
    "        np += 1\n",
    "    end\n",
    "    push!(Nextpoint, np)\n",
    "    push!(Point, np)\n",
    "end\n",
    "\n",
    "d_W = CUDA.ones(Float32, e) # Aquí suponemos W_0 = 1.\n",
    "d_point = CuArray(Point)\n",
    "d_nextpoint = CuArray{Int32}(Nextpoint)\n",
    "d_W_new = CUDA.ones(Float32, e)#CuArray{Float32}(undef, e)\n",
    "d_P = CuArray{Float32}(P)\n",
    "d_T = CuArray{Float32}(T)\n",
    "d_X = CUDA.fill(Float32(f[var]), e)\n",
    "d_f = CuArray{Float32}(f)\n",
    "d_flag = CUDA.fill(Inf32, e)\n",
    "\n",
    "function kernel(W, W_new, X, T, P, nextpoint, point, f, flag)\n",
    "    i = (blockIdx().x-1) * blockDim().x + threadIdx().x\n",
    "    W_new[i] = W[i] * CUDA.pow((T[point[i], nextpoint[i]]/P[point[i], nextpoint[i]]), i)\n",
    "    @cuprintln(\"W_new[$i] = $(W_new[i]), T[$(point[i]), $(nextpoint[i])] = $(T[point[i], nextpoint[i]]), P[$(point[i]), $(nextpoint[i])] = $(P[point[i], nextpoint[i]])\")\n",
    "\n",
    "    for h in 1:length(W_new) \n",
    "        if abs(W_new[i]) < 0.05\n",
    "            #@cuprintln(\"i = $i\")\n",
    "            flag[1] = i\n",
    "        end\n",
    "            break\n",
    "    end\n",
    "    sync_threads()\n",
    "    if i < flag[1]\n",
    "        @cuprintln(\"W_new[$i] = $(W_new[i])\")\n",
    "        X[i] +=  W_new[i] * f[nextpoint[i]]\n",
    "    end\n",
    "    return\n",
    "end\n",
    "\n",
    "\n",
    "@cuda threads = e kernel(d_W, d_W_new, d_X, d_T, d_P, d_nextpoint, d_point, d_f, d_flag)\n",
    "\n",
    "mean(Array(d_X)[1:Int(Array(d_flag)[1])-1])"
   ]
  },
  {
   "cell_type": "code",
   "execution_count": 116,
   "metadata": {},
   "outputs": [
    {
     "data": {
      "text/plain": [
       "4-element Array{Float32,1}:\n",
       " -0.3333333\n",
       " -1.4444444\n",
       " -0.70370364\n",
       " -1.1975309"
      ]
     },
     "execution_count": 116,
     "metadata": {},
     "output_type": "execute_result"
    }
   ],
   "source": [
    "Array(d_X)[1:Int(Array(d_flag)[1])-1]"
   ]
  },
  {
   "cell_type": "code",
   "execution_count": null,
   "metadata": {},
   "outputs": [],
   "source": []
  }
 ],
 "metadata": {
  "kernelspec": {
   "display_name": "Julia 1.4.2",
   "language": "julia",
   "name": "julia-1.4"
  },
  "language_info": {
   "file_extension": ".jl",
   "mimetype": "application/julia",
   "name": "julia",
   "version": "1.4.2"
  }
 },
 "nbformat": 4,
 "nbformat_minor": 2
}
